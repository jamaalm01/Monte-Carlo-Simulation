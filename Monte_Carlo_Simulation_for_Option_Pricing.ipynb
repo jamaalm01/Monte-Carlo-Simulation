{
  "nbformat": 4,
  "nbformat_minor": 0,
  "metadata": {
    "colab": {
      "provenance": [],
      "authorship_tag": "ABX9TyNH0gGA3oBD8cC/0bYZkIwa",
      "include_colab_link": true
    },
    "kernelspec": {
      "name": "python3",
      "display_name": "Python 3"
    },
    "language_info": {
      "name": "python"
    }
  },
  "cells": [
    {
      "cell_type": "markdown",
      "metadata": {
        "id": "view-in-github",
        "colab_type": "text"
      },
      "source": [
        "<a href=\"https://colab.research.google.com/github/jamaalm01/Monte_Carlo_Simulation/blob/main/Monte_Carlo_Simulation_for_Option_Pricing.ipynb\" target=\"_parent\"><img src=\"https://colab.research.google.com/assets/colab-badge.svg\" alt=\"Open In Colab\"/></a>"
      ]
    },
    {
      "cell_type": "code",
      "execution_count": 1,
      "metadata": {
        "id": "jkn9Zv7e2sd0"
      },
      "outputs": [],
      "source": [
        "# Import dependencies\n",
        "import math\n",
        "import numpy as np\n",
        "import pandas as pd\n",
        "import datetime\n",
        "import scipy.stats as stats\n",
        "import matplotlib.pyplot as plt\n",
        "from pandas_datareader import data as pdr"
      ]
    },
    {
      "cell_type": "code",
      "source": [
        "# initial derivative parameters\n",
        "S = 101.15          #stock price\n",
        "K = 98.01           #strike price\n",
        "vol = 0.0991        #volatility (%)\n",
        "r = 0.01            #risk-free rate (%)\n",
        "N = 10              #number of time steps\n",
        "M = 1000            #number of simulations\n",
        "\n",
        "market_value = 3.86 #market price of option\n",
        "T = ((datetime.date(2022,3,17)-datetime.date(2022,1,17)).days+1)/365    #time in years"
      ],
      "metadata": {
        "id": "oHwcc_KZ3YPO"
      },
      "execution_count": 2,
      "outputs": []
    },
    {
      "cell_type": "code",
      "source": [
        "#precompute constants\n",
        "dt = T/N\n",
        "nudt = (r - 0.5*vol**2)*dt\n",
        "volsdt = vol*np.sqrt(dt)\n",
        "lnS = np.log(S)\n",
        "\n",
        "# Monte Carlo Method\n",
        "Z = np.random.normal(size=(N, M))\n",
        "delta_lnSt = nudt + volsdt*Z\n",
        "lnSt = lnS + np.cumsum(delta_lnSt, axis=0)\n",
        "lnSt = np.concatenate( (np.full(shape=(1, M), fill_value=lnS), lnSt ) )\n",
        "\n",
        "# Compute Expectation and SE\n",
        "ST = np.exp(lnSt)\n",
        "CT = np.maximum(0, ST - K)\n",
        "C0 = np.exp(-r*T)*np.sum(CT[-1])/M\n",
        "\n",
        "sigma = np.sqrt( np.sum( (CT[-1] - C0)**2) / (M-1) )\n",
        "SE = sigma/np.sqrt(M)\n",
        "\n",
        "print(\"Call value is ${0} with SE +/- {1}\".format(np.round(C0,2),np.round(SE,2)))"
      ],
      "metadata": {
        "colab": {
          "base_uri": "https://localhost:8080/"
        },
        "id": "rsbxb4ze3Zz3",
        "outputId": "17f981a3-ac75-4b0e-925e-f239d5a04d36"
      },
      "execution_count": 5,
      "outputs": [
        {
          "output_type": "stream",
          "name": "stdout",
          "text": [
            "Call value is $3.81 with SE +/- 0.11\n"
          ]
        }
      ]
    }
  ]
}